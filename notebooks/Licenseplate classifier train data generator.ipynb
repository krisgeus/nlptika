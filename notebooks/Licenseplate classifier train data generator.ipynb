{
 "cells": [
  {
   "cell_type": "markdown",
   "metadata": {},
   "source": [
    "# Generate training data license plates"
   ]
  },
  {
   "cell_type": "code",
   "execution_count": 3,
   "metadata": {
    "collapsed": true
   },
   "outputs": [],
   "source": [
    "import findspark\n",
    "findspark.init()"
   ]
  },
  {
   "cell_type": "code",
   "execution_count": 4,
   "metadata": {
    "collapsed": false
   },
   "outputs": [],
   "source": [
    "import pyspark\n",
    "sc = pyspark.SparkContext()\n",
    "sqlCtx = pyspark.sql.HiveContext(sc)"
   ]
  },
  {
   "cell_type": "code",
   "execution_count": 5,
   "metadata": {
    "collapsed": false
   },
   "outputs": [],
   "source": [
    "from random import choice\n",
    "from string import ascii_lowercase, digits\n",
    "from pyspark.sql import Row\n",
    "\n",
    "def randomString(n):\n",
    "    return \"\".join(choice(ascii_lowercase) for i in range(n))\n",
    "\n",
    "def randomSeperator():\n",
    "    return str(choice(['', '-', ' ']))\n",
    "\n",
    "def randomNumber(n):\n",
    "    return \"\".join(choice(digits) for i in range(n))\n",
    "\n",
    "def getPlate(i):\n",
    "    index = i % 9\n",
    "    seperator = randomSeperator()\n",
    "    if index == 0:\n",
    "        plate = (\"{0}{1}{2}{3}{4}\".format(randomString(2),seperator,randomNumber(2), seperator,randomNumber(2)), 1951)\n",
    "    elif index == 1:\n",
    "        plate = (\"{0}{1}{2}{3}{4}\".format(randomNumber(2),seperator,randomNumber(2),seperator,randomString(2)), 1965)\n",
    "    elif index == 2:\n",
    "        plate = (\"{0}{1}{2}{3}{4}\".format(randomNumber(2),seperator,randomString(2),seperator,randomNumber(2)), 1973)\n",
    "    elif index == 3:\n",
    "        plate = (\"{0}{1}{2}{3}{4}\".format(randomString(2),seperator,randomNumber(2),seperator,randomString(2)), 1978)\n",
    "    elif index == 4:\n",
    "        plate = (\"{0}{1}{2}{3}{4}\".format(randomString(2),seperator,randomString(2),seperator,randomNumber(2)), 1991)\n",
    "    elif index == 5:\n",
    "        plate = (\"{0}{1}{2}{3}{4}\".format(randomNumber(2),seperator,randomString(2),seperator,randomString(2)),1999)\n",
    "    elif index == 6:\n",
    "        plate = (\"{0}{1}{2}{3}{4}\".format(randomNumber(2),seperator,randomString(3),seperator,randomNumber(1)),2005)\n",
    "    elif index == 7:\n",
    "        plate = (\"{0}{1}{2}{3}{4}\".format(randomNumber(1),seperator,randomString(3),seperator, randomNumber(2)),2013)\n",
    "    elif index == 8:\n",
    "        plate = (\"{0}{1}{2}{3}{4}\".format(randomString(2),seperator,randomNumber(3),seperator,randomString(1)),2015)\n",
    "\n",
    "    return Row(plate=plate[0], year=plate[1])"
   ]
  },
  {
   "cell_type": "code",
   "execution_count": 6,
   "metadata": {
    "collapsed": false
   },
   "outputs": [
    {
     "name": "stdout",
     "output_type": "stream",
     "text": [
      "XXXX\n"
     ]
    }
   ],
   "source": [
    "print(\"XX{0}XX\".format(randomSeperator()))"
   ]
  },
  {
   "cell_type": "code",
   "execution_count": 7,
   "metadata": {
    "collapsed": true
   },
   "outputs": [],
   "source": [
    "data = sc.parallelize(range(20000))\n",
    "dataRowRdd = data.map(lambda i: getPlate(i))"
   ]
  },
  {
   "cell_type": "code",
   "execution_count": 8,
   "metadata": {
    "collapsed": false
   },
   "outputs": [
    {
     "name": "stdout",
     "output_type": "stream",
     "text": [
      "+--------+----+\n",
      "|   plate|year|\n",
      "+--------+----+\n",
      "|ln-98-33|1951|\n",
      "|09 47 ku|1965|\n",
      "|59-jt-34|1973|\n",
      "|  vk23av|1978|\n",
      "|cs-tg-53|1991|\n",
      "|  82ctuf|1999|\n",
      "|  81kmi6|2005|\n",
      "|7 rux 92|2013|\n",
      "|vv 353 g|2015|\n",
      "|ub-67-84|1951|\n",
      "|26 03 qv|1965|\n",
      "|29-jp-73|1973|\n",
      "|cr 56 os|1978|\n",
      "|ej fo 30|1991|\n",
      "|  40lwjb|1999|\n",
      "|56 tgy 1|2005|\n",
      "|  0dqb03|2013|\n",
      "|  xy568e|2015|\n",
      "|yh 14 34|1951|\n",
      "|93-23-yn|1965|\n",
      "+--------+----+\n",
      "only showing top 20 rows\n",
      "\n"
     ]
    }
   ],
   "source": [
    "dataDf = sqlCtx.createDataFrame(dataRowRdd)\n",
    "dataDf.show()"
   ]
  },
  {
   "cell_type": "code",
   "execution_count": 9,
   "metadata": {
    "collapsed": false
   },
   "outputs": [],
   "source": [
    "lorum = list([\"Lorem ipsum dolor sit amet, consectetur adipiscing elit. Phasellus lacinia mauris eget ligula bibendum, et tincidunt neque convallis. Praesent nec scelerisque lacus, eget viverra ipsum. Nam eu luctus mauris. Quisque consectetur ex libero, in convallis diam vulputate ac. In tempor metus dui, non faucibus dolor ultricies eget. Sed egestas sed nunc quis auctor. Pellentesque habitant morbi tristique senectus et netus et malesuada fames ac turpis egestas. Donec est quam, dapibus sed velit in, venenatis convallis leo. Sed metus leo, laoreet a mollis quis, pretium quis enim. Praesent consectetur diam non nibh cursus, vel semper nisl euismod.\",\n",
    "\n",
    "\"Mauris tempus tortor vel quam consectetur, nec condimentum metus dictum. Duis condimentum commodo lorem sed rutrum. Morbi ac urna risus. Quisque vel justo in orci pulvinar mollis. Integer maximus odio in odio eleifend, nec dictum dolor convallis. Vestibulum consectetur aliquam vulputate. Donec finibus fringilla volutpat. Mauris tempus felis non magna posuere bibendum at ut mi.\",\n",
    "\n",
    "\"Donec a turpis vel magna imperdiet laoreet. Nulla facilisi. Phasellus consequat bibendum sapien, vel maximus neque ullamcorper mattis. In vitae varius lectus. Integer malesuada sagittis dolor. Nam in finibus tellus. Nam at lobortis est, aliquet commodo nulla. Sed pellentesque felis leo, sed auctor neque maximus vel. Aliquam id felis suscipit, consectetur diam vel, blandit nibh. Quisque velit orci, tempus id iaculis sed, vestibulum eu quam. Proin gravida cursus ipsum sed consequat. Sed tincidunt, felis non fringilla finibus, nibh lorem blandit nisl, eget rhoncus nisi neque at dui. Vivamus venenatis dui eget luctus convallis. Sed blandit, nulla vitae maximus semper, neque nunc vestibulum tortor, nec mollis libero libero ut purus. Ut semper, dolor quis auctor convallis, mauris mauris placerat nibh, at consequat leo dui eget sapien. Duis vestibulum ligula metus, quis pulvinar dolor luctus lacinia.\",\n",
    "\n",
    "\"Sed condimentum congue euismod. Etiam tincidunt leo ut ullamcorper egestas. Maecenas quis diam sed tortor posuere vehicula nec a neque. Aliquam semper auctor arcu, vitae efficitur odio. Integer interdum convallis felis, vitae viverra libero tincidunt et. Pellentesque habitant morbi tristique senectus et netus et malesuada fames ac turpis egestas. Etiam id nunc sed justo faucibus gravida. Vestibulum vehicula nunc vel nunc tristique venenatis. Nam tellus eros, lacinia et erat nec, semper luctus turpis. Integer et erat aliquam, varius ex ac, fermentum arcu.\",\n",
    "\n",
    "\"Proin egestas, ex sit amet mollis venenatis, dui mi suscipit orci, nec sollicitudin purus sem eget urna. Proin eget efficitur libero. Aenean bibendum, nunc ac feugiat tempus, libero ex auctor lectus, ac eleifend tellus nibh sit amet sem. Nulla suscipit orci neque, a varius justo fermentum at. Proin quis congue lacus. Integer luctus erat viverra, pretium orci sed, ullamcorper lorem. Pellentesque posuere lorem ex, ac ullamcorper enim aliquam vel. Nulla velit enim, euismod sit amet consectetur et, elementum tincidunt dui. Nunc pretium cursus dui, eget accumsan velit fermentum in. Etiam interdum, leo eget ultrices tempus, dui tellus efficitur ex, sed interdum justo mi nec sapien. Morbi ac nisl sed arcu porta lobortis at tincidunt enim.\",\n",
    "\n",
    "\"Cum sociis natoque penatibus et magnis dis parturient montes, nascetur ridiculus mus. Maecenas a tristique erat. Nullam pellentesque venenatis sapien eu accumsan. Maecenas sit amet volutpat est. Donec sed laoreet sapien. Suspendisse potenti. Vestibulum et finibus nisl, id tempor nunc. Praesent vitae posuere purus, at dapibus velit. Proin et venenatis purus. Phasellus quis lobortis massa.\",\n",
    "\n",
    "\"Etiam non metus ut mauris vulputate ornare. Duis posuere ultricies enim, sit amet venenatis purus maximus id. Mauris vulputate, lectus in rutrum dictum, odio est vulputate nisl, in iaculis mauris eros in libero. Donec blandit molestie pretium. In blandit nulla sed nisl porttitor, in tincidunt lectus molestie. Phasellus quis orci tortor. Pellentesque habitant morbi tristique senectus et netus et malesuada fames ac turpis egestas. Duis varius aliquet metus non cursus. Morbi consequat sem augue, nec tempus odio condimentum et. Aliquam a felis non urna elementum vehicula et ac ipsum. Suspendisse potenti. Suspendisse urna enim, lobortis quis libero et, luctus pharetra nibh. Vivamus finibus mi id imperdiet hendrerit.\",\n",
    "\n",
    "\"Sed finibus fringilla vestibulum. Nam dignissim dui quis eros molestie, ac mattis nunc imperdiet. Etiam volutpat tincidunt turpis, id tincidunt nisl vehicula quis. Ut congue placerat lobortis. Morbi at justo sit amet quam tempus maximus. Etiam in justo ultrices, interdum arcu in, venenatis ligula. Morbi vel vulputate lorem, non vestibulum ante. Integer bibendum quam ut dapibus malesuada. Morbi nec faucibus nunc. Nam ut imperdiet neque, sed porta nisl. Donec et sem a libero sollicitudin pulvinar a eu metus. Pellentesque lectus purus, tristique vitae erat ut, laoreet bibendum sem.\",\n",
    "\n",
    "\"Pellentesque ligula lectus, tincidunt nec condimentum at, viverra eu diam. Aenean imperdiet justo ullamcorper purus porta, eget accumsan risus mattis. Phasellus ut tortor venenatis justo placerat congue. Donec quis ipsum et erat vestibulum pharetra. Nam tristique est sit amet mollis ultricies. Morbi at mi nunc. Integer mattis, nisl et blandit interdum, nibh dui ultrices sapien, ut scelerisque orci risus eu urna. Curabitur suscipit libero vitae risus condimentum vestibulum. Donec condimentum nisl enim, sed hendrerit sapien varius ut. Etiam non augue vel ex fermentum blandit. Fusce ipsum turpis, egestas eu odio non, vulputate pulvinar est. Sed placerat, urna in consequat congue, sem felis dapibus urna, id ultrices nisi ipsum non ligula.\",\n",
    "\n",
    "\"Aliquam maximus vel justo quis rutrum. Sed accumsan dapibus suscipit. Nunc nunc dui, sodales non rhoncus at, luctus nec dui. Etiam quis sodales neque. Praesent mauris nunc, fermentum quis rutrum et, euismod eu tortor. Donec rhoncus nulla et rhoncus auctor. Vestibulum mattis neque purus, et lacinia enim imperdiet non. Donec lobortis dolor a tincidunt sagittis. Nullam nec faucibus ligula, vel volutpat diam. Morbi molestie justo eget auctor sollicitudin. Maecenas nec aliquam lectus, pellentesque cursus lectus. Nam rhoncus enim sit amet eros maximus pretium. Vestibulum maximus ullamcorper maximus.\",\n",
    "\n",
    "\"Nunc molestie purus tincidunt ex facilisis, quis facilisis nulla suscipit. Nulla non egestas mauris. Nunc eget turpis libero. Nullam tempus neque dui, non rhoncus dui mattis et. Aenean venenatis eros at rhoncus tempus. Vivamus fringilla nibh eu velit mattis vestibulum. Ut ultricies congue laoreet. Nulla mollis blandit magna, eu facilisis neque tincidunt ut. Morbi ut tincidunt nunc.\",\n",
    "\n",
    "\"Proin lacinia bibendum augue vel rutrum. Fusce dui arcu, pretium nec ligula ac, facilisis ultricies ipsum. Donec efficitur massa et velit sollicitudin, ut lobortis felis dictum. Nullam quis mollis nisl, ut aliquet mauris. Aliquam blandit, erat id facilisis fringilla, mi erat facilisis lacus, non fermentum mi augue eget massa. Donec ut augue imperdiet, mattis leo nec, cursus nibh. Curabitur posuere tincidunt mattis. Sed lacinia tempus odio, eget malesuada sem laoreet et. Lorem ipsum dolor sit amet, consectetur adipiscing elit.\",\n",
    "\n",
    "\"Cras at ipsum sit amet ex mollis consectetur. Quisque sagittis, ex viverra vestibulum sodales, velit ex vestibulum orci, id luctus mauris diam quis est. Quisque ut magna ut nunc facilisis egestas. Donec quis efficitur est. Mauris nec suscipit quam. Nulla luctus dictum est molestie mattis. Aliquam dapibus eros sed ligula venenatis, vitae vestibulum magna blandit. Nunc aliquet faucibus enim non porttitor. Mauris lacus risus, consectetur eget leo sit amet, sollicitudin consectetur sem. Donec eleifend ac arcu in fermentum. Nam mattis imperdiet nisl, eu eleifend urna dignissim id. Sed ullamcorper, massa nec tempus posuere, erat enim hendrerit sem, nec pharetra eros purus in dolor. Maecenas posuere pharetra nisl, nec pretium felis convallis eget. Fusce tristique nunc nec fringilla imperdiet. Donec fermentum, tortor quis hendrerit imperdiet, sem massa placerat ante, et dictum ipsum dolor eget orci.\",\n",
    "\n",
    "\"Aenean at iaculis sapien. Duis id dui tincidunt augue egestas dictum ultrices ut augue. Curabitur viverra venenatis lectus non consectetur. Mauris ut sapien in risus hendrerit pulvinar. Integer commodo ex ipsum, ut bibendum ante consectetur ut. Pellentesque habitant morbi tristique senectus et netus et malesuada fames ac turpis egestas. Cras efficitur enim a libero interdum vehicula. In vel lorem eget turpis luctus elementum. Quisque placerat nulla pulvinar purus sollicitudin, interdum tincidunt tortor posuere. Nunc ut massa eu felis viverra faucibus. Ut consequat vitae nulla sed volutpat. In hac habitasse platea dictumst. Mauris quis iaculis quam. Suspendisse placerat sagittis aliquet.\",\n",
    "\n",
    "\"Duis eu orci mattis, lobortis tellus at, dapibus orci. Aenean in tortor urna. Maecenas blandit pellentesque mauris lacinia iaculis. Integer blandit diam non magna blandit finibus. Sed maximus felis vehicula, eleifend libero quis, volutpat diam. Duis ac rhoncus risus. Praesent ut tellus nisi. Morbi dignissim hendrerit sapien et suscipit. Etiam nisi quam, fringilla ac massa eu, dictum commodo lectus.\",\n",
    "\n",
    "\"Maecenas ac orci non elit maximus volutpat eget scelerisque magna. Etiam pellentesque nunc id felis porta varius. Duis ligula libero, blandit ut pulvinar ut, malesuada a nunc. Fusce porttitor a sem in laoreet. Donec vel nisi elit. Curabitur velit nibh, dignissim ultricies imperdiet nec, tristique sed nunc. Class aptent taciti sociosqu ad litora torquent per conubia nostra, per inceptos himenaeos. Vestibulum maximus sit amet odio et fermentum. Donec at augue eu tellus volutpat luctus. Suspendisse fringilla varius tortor, vitae hendrerit tellus gravida vitae. Vivamus venenatis felis sed diam tempus pharetra. Praesent dignissim ipsum quis nibh viverra, non scelerisque felis hendrerit.\",\n",
    "\n",
    "\"Praesent congue justo massa, at sollicitudin nisi facilisis non. Nam in lorem lorem. Suspendisse pellentesque neque consequat commodo rhoncus. Nam lacinia libero felis, ut eleifend libero laoreet eget. Praesent pretium tempor auctor. Vivamus porta lacus vel sapien maximus semper. Sed blandit dui vitae tellus bibendum sagittis.\",\n",
    "\n",
    "\"Phasellus pulvinar congue scelerisque. Suspendisse ac arcu nisl. In quis velit odio. Lorem ipsum dolor sit amet, consectetur adipiscing elit. Morbi sagittis odio ac mattis pulvinar. Sed porta dolor sit amet ex tincidunt, ut feugiat eros ultricies. Donec lacinia dolor porta neque imperdiet, hendrerit condimentum velit porttitor. Curabitur cursus dignissim tortor, ut malesuada purus blandit id. Nunc ultrices libero magna, sed tempor felis porta et. Cras at turpis vel enim tempor lacinia ut non quam.\",\n",
    "\n",
    "\"Mauris eget vestibulum erat, eu pharetra quam. Suspendisse quis placerat lacus, ac feugiat lacus. Nunc nec augue ut enim vehicula interdum at eu neque. Morbi id malesuada urna, quis interdum lectus. Morbi luctus, ante vitae accumsan venenatis, felis leo dictum dui, non sodales eros tortor vitae enim. Nunc ut egestas sapien. Etiam eu nunc vitae nulla sagittis lacinia ut in sapien. Morbi dignissim ac lacus sit amet tincidunt. Pellentesque aliquam consequat consequat.\",\n",
    "\n",
    "\"Fusce fringilla orci non rutrum feugiat. Vestibulum ac tempus leo. Aliquam erat volutpat. Nulla convallis ante in mi semper vehicula. Vivamus sed consequat velit. Nulla vitae nibh dapibus, ornare nisl sit amet, semper metus. Aenean turpis augue, scelerisque sed lorem a, dapibus tristique nibh. Morbi at rhoncus augue. Integer egestas arcu a quam rhoncus volutpat. Nunc in tellus efficitur, placerat elit nec, suscipit leo.\",\n",
    "\n",
    "\"Quisque convallis arcu venenatis, placerat massa non, interdum risus. Aliquam in ligula eu lacus viverra sagittis consequat quis nibh. Nam iaculis eu dolor id bibendum. Quisque vitae neque nisi. Maecenas dapibus erat lorem, vel pulvinar nisl varius et. Curabitur nec mattis metus. Fusce vitae aliquam felis.\",\n",
    "\n",
    "\"Maecenas ultricies enim quis velit tristique, sed auctor eros gravida. Vestibulum at neque dictum, pulvinar velit at, vehicula diam. Maecenas lectus erat, interdum a lectus a, blandit facilisis justo. Suspendisse non imperdiet neque. Fusce tempus sodales arcu eget sodales. Nullam finibus elementum purus a rutrum. Donec blandit risus non placerat elementum. Pellentesque egestas tellus eu mauris malesuada scelerisque. Pellentesque scelerisque elit nisi, ac pretium arcu vulputate ut. In pharetra ex vel lobortis fringilla. Pellentesque leo felis, rutrum in accumsan vitae, ultrices vitae libero.\",\n",
    "\n",
    "\"Duis quis est in turpis iaculis suscipit. Aliquam mattis maximus turpis non facilisis. Praesent volutpat tincidunt ligula, et dignissim nunc ullamcorper in. Morbi et nisl leo. Quisque placerat tempus diam, in suscipit ex tincidunt non. Mauris congue ex et ante finibus porttitor. Etiam nisi quam, ullamcorper id justo sit amet, facilisis feugiat augue. Nunc ut magna placerat, venenatis urna eu, vehicula est. Praesent laoreet turpis urna, nec pretium arcu molestie vel. Fusce urna nulla, efficitur vestibulum condimentum non, sollicitudin in libero. Maecenas rutrum metus nec feugiat condimentum. Aliquam vitae velit rutrum, accumsan felis eu, consequat felis. Morbi hendrerit elit odio, quis fringilla dolor egestas et. Duis pellentesque bibendum iaculis.\",\n",
    "\n",
    "\"Cum sociis natoque penatibus et magnis dis parturient montes, nascetur ridiculus mus. Fusce a ante venenatis, tincidunt enim vitae, aliquet felis. Sed iaculis faucibus bibendum. In ultricies cursus massa, et mattis massa cursus in. Nulla pretium viverra rhoncus. Aliquam erat volutpat. Nam sem ante, malesuada et urna eu, ullamcorper scelerisque justo. Sed non dignissim est. Nam eu mi eu justo interdum pharetra quis vel magna. Mauris eget leo vestibulum, hendrerit libero id, molestie enim. Cum sociis natoque penatibus et magnis dis parturient montes, nascetur ridiculus mus. Aenean erat metus, faucibus at lectus sit amet, consequat gravida quam. Duis vel iaculis ligula. Nunc efficitur viverra velit at dapibus. Pellentesque pharetra, lectus vel imperdiet elementum, ipsum felis convallis dolor, non ultricies metus ex sit amet ex.\",\n",
    "\n",
    "\"Maecenas eget dui accumsan, faucibus nulla ac, dapibus risus. Mauris scelerisque finibus magna. In tincidunt et nunc quis ornare. Sed efficitur libero ultricies urna maximus, in aliquam elit vulputate. In tincidunt neque non suscipit aliquet. Donec dignissim mi dapibus tincidunt iaculis. Quisque at eros ligula. Morbi vitae erat bibendum, porta dui ac, commodo massa. Quisque mollis turpis in iaculis consequat.\",\n",
    "\n",
    "\"Lorem ipsum dolor sit amet, consectetur adipiscing elit. Mauris eleifend, odio ac feugiat fermentum, nibh mauris cursus dui, vitae accumsan magna dolor id erat. Duis nec placerat nulla. Etiam mauris tortor, condimentum ornare iaculis ut, volutpat non metus. Sed venenatis mauris ut mi posuere, nec porta dui egestas. Praesent sed neque sed mauris porta ultricies nec id quam. Proin euismod pretium auctor. Suspendisse ultrices, tellus quis venenatis vulputate, risus sem ultricies metus, sed porta dolor justo et mi. Fusce eget ex quis odio efficitur pharetra. Donec diam odio, dignissim ac purus non, ullamcorper egestas dui. Duis venenatis est et odio bibendum tincidunt.\",\n",
    "\n",
    "\"Morbi eget luctus sem. Sed non urna maximus, molestie est eget, convallis ipsum. Sed id arcu sit amet est venenatis iaculis vel vitae odio. Ut sed vulputate odio. Proin blandit elementum mauris tincidunt vestibulum. Nam at ullamcorper arcu. Cum sociis natoque penatibus et magnis dis parturient montes, nascetur ridiculus mus. Curabitur volutpat sodales nisi eu fringilla. Aliquam bibendum, felis sit amet venenatis scelerisque, libero leo placerat metus, eu pretium tortor purus blandit nisl. Nam fringilla lorem sed enim vehicula eleifend. Duis posuere, tortor sit amet euismod sollicitudin, metus libero pellentesque justo, eu scelerisque est ligula nec velit. In blandit, metus vitae molestie luctus, odio justo feugiat enim, ut ornare tortor elit nec dolor. Phasellus mollis sapien ac lectus commodo bibendum. Donec nunc lectus, condimentum id tortor pulvinar, placerat tempor massa. Integer arcu risus, finibus ullamcorper consectetur id, viverra ut sem.\",\n",
    "\n",
    "\"Integer bibendum ut neque aliquet rhoncus. Duis sem risus, convallis a suscipit nec, elementum dictum ex. Nulla pulvinar turpis mattis suscipit aliquet. Nunc sodales placerat massa, quis mollis enim accumsan ut. Cras eget tortor feugiat, molestie turpis ac, mollis mauris. Nam non ex dui. Sed in porta nunc. Nullam tincidunt porttitor accumsan. Sed cursus vulputate iaculis. Class aptent taciti sociosqu ad litora torquent per conubia nostra, per inceptos himenaeos. Mauris dignissim dolor id urna tincidunt, blandit sagittis augue tincidunt. Nulla id orci velit. Mauris id risus dui. Maecenas finibus urna elit, sit amet rutrum mi feugiat at. Praesent non libero sagittis, faucibus lectus hendrerit, tincidunt augue. Fusce interdum lorem commodo enim venenatis varius.\",\n",
    "\n",
    "\"Aenean commodo turpis eu bibendum molestie. Sed ut nibh ac sem blandit pharetra sit amet in nunc. Nulla elementum magna vel mattis vestibulum. Nullam finibus ipsum lorem, eget varius ante venenatis tristique. Morbi laoreet ipsum sit amet dignissim egestas. Suspendisse a ante lacinia, lobortis arcu faucibus, pretium enim. Pellentesque nibh urna, pulvinar ut semper id, ornare quis massa. Curabitur metus ipsum, convallis vitae laoreet et, mollis ut tellus. Fusce tristique velit vehicula lorem suscipit, quis lacinia urna molestie. Morbi imperdiet tincidunt est eu sagittis. Nunc gravida lacus ut ullamcorper lacinia.\",\n",
    "\n",
    "\"Cras ullamcorper dui ut neque maximus, nec porttitor nulla iaculis. Phasellus vel felis vehicula, feugiat lacus a, fringilla orci. Pellentesque ac consequat purus. Curabitur fermentum tortor nec varius mattis. Sed non nulla tortor. Cras malesuada sapien quis pharetra aliquet. Integer odio turpis, placerat non odio nec, convallis ultricies turpis. Quisque vitae lobortis odio, nec imperdiet nulla. Donec sodales felis est, sit amet pulvinar sem aliquam convallis. Morbi massa lorem, venenatis et euismod eget, bibendum at nisl.\",\n",
    "\n",
    "\"Aliquam eget ornare ligula. Curabitur sodales, urna non tempor interdum, nisi dolor tempus mauris, a egestas ante mauris in metus. Mauris et consectetur metus. Fusce diam sem, porta in pretium in, auctor at libero. Mauris gravida metus ligula, sed vestibulum nisl aliquet sit amet. Cras tincidunt sapien tortor, sed vulputate felis porta non. In eu fringilla sapien. Aenean in venenatis diam. Praesent vestibulum velit nec mi mollis, et tempor magna ullamcorper. Pellentesque feugiat sapien nec viverra condimentum. Sed lobortis, ex vitae rhoncus pellentesque, lacus nulla venenatis neque, nec dictum diam quam vel nisl. Nam et mattis metus. Interdum et malesuada fames ac ante ipsum primis in faucibus. In fermentum sed eros accumsan viverra.\",\n",
    "\n",
    "\"Quisque laoreet augue vel mauris dapibus, sed rhoncus neque posuere. Fusce eleifend eget lectus sed porttitor. Donec tempor tortor id fermentum tempus. Aenean placerat lacus in massa facilisis, luctus iaculis lorem fermentum. Suspendisse ac purus sit amet velit cursus eleifend. Aliquam vitae ipsum risus. Quisque mi tellus, auctor facilisis lacus sed, tincidunt vulputate enim. Nunc vel varius nisl, non maximus sem. Donec vel pretium mauris. Morbi cursus tempor laoreet. Nunc dictum, leo bibendum luctus maximus, orci massa maximus tortor, a vehicula tortor arcu ut sem. Cras placerat mi at bibendum lobortis. Vivamus commodo nec ante a sodales. Nullam hendrerit nunc et diam malesuada congue. Donec faucibus augue non magna dictum, vel ullamcorper nulla sagittis. Praesent nisi arcu, vulputate faucibus faucibus quis, hendrerit in libero.\",\n",
    "\n",
    "\"Sed nec dolor sit amet lectus rhoncus laoreet. Mauris id nunc urna. Nunc id nibh id nisl auctor mattis sit amet consectetur leo. In vel consequat sapien, vitae efficitur nulla. Cras vel varius nulla, ut mollis massa. Fusce lorem ante, lacinia et ipsum in, accumsan sagittis lacus. Nullam ac eros at dui egestas dapibus non et lorem. Nulla tortor ipsum, vestibulum sed diam eget, lacinia consectetur sapien. Etiam dictum ipsum quis arcu ultricies, nec ultrices nisi maximus. Sed efficitur massa ut lacus dictum, et mattis nibh vulputate. Aliquam erat volutpat.\",\n",
    "\n",
    "\"Proin ac tellus vulputate, posuere ipsum sed, lacinia massa. Nulla pulvinar, ligula sit amet porttitor vehicula, orci felis posuere ipsum, a placerat felis tortor et libero. Sed vehicula arcu vitae sagittis interdum. Aenean mattis porttitor ante ut pulvinar. Phasellus a sagittis arcu, ac ornare quam. Duis porta convallis tortor vel bibendum. Maecenas varius dapibus pulvinar. Ut pretium enim placerat rutrum pharetra. Fusce tempor tortor ac tortor ullamcorper fringilla. Etiam eget varius turpis. Cras pellentesque porta vehicula. Donec tristique hendrerit sagittis.\",\n",
    "\n",
    "\"Ut quis urna non nulla fermentum dignissim. Donec ut aliquet lacus. Praesent viverra varius tellus, ut volutpat libero ultrices a. Duis scelerisque tincidunt euismod. Vivamus non lorem molestie, tempus justo vitae, laoreet turpis. Integer eu nibh quis magna consequat aliquet ut et neque. Ut vel maximus est, ut fermentum diam. Sed vitae ullamcorper libero. Aliquam euismod tempor dolor, vel ultrices lacus consequat vel. Lorem ipsum dolor sit amet, consectetur adipiscing elit. Maecenas nec turpis porttitor massa pretium eleifend.\",\n",
    "\n",
    "\"Vivamus ut scelerisque nibh. Morbi in ornare velit. Sed varius, massa a sagittis tincidunt, felis nulla mollis urna, ut ornare lorem sapien nec velit. Cras ac libero non ipsum pellentesque feugiat vel et magna. Ut feugiat magna non gravida auctor. Sed ultricies ultricies libero vitae blandit. Nulla pulvinar metus eget nunc ullamcorper, et vestibulum sapien mollis. Vestibulum lacus tellus, faucibus vitae dolor ac, mattis interdum massa.\",\n",
    "\n",
    "\"Aliquam eu efficitur urna. Mauris dui nisi, condimentum sit amet turpis a, blandit tincidunt magna. Suspendisse placerat erat non nunc condimentum, sit amet auctor velit scelerisque. Phasellus neque nunc, sollicitudin et viverra nec, auctor non turpis. Donec vitae augue ante. Mauris sollicitudin sapien sit amet consequat commodo. Phasellus imperdiet euismod magna, ut semper risus volutpat sed. Suspendisse ultrices consectetur ante, eget dignissim eros fringilla non. Nunc pulvinar lacus metus, ut vehicula ante porta ut. Duis varius justo vel ipsum accumsan, sit amet euismod odio commodo. Sed euismod nec augue at maximus. Quisque hendrerit tortor urna, at cursus ex elementum luctus. Aliquam consequat mi lacus, at dictum magna ornare a. Quisque eleifend, mauris porttitor aliquam ultricies, velit felis sollicitudin diam, sed vestibulum risus orci non lectus. Phasellus non feugiat ante, quis semper nisl. Curabitur sit amet neque vitae mauris suscipit suscipit.\",\n",
    "\n",
    "\"Vestibulum condimentum accumsan nisl, vitae gravida lorem. Duis lorem justo, malesuada sed mi sed, malesuada ultricies nisi. Integer feugiat consectetur nulla, vel aliquet ex interdum in. Curabitur congue pellentesque ipsum, quis accumsan erat rhoncus fermentum. Phasellus eget tellus ac massa porttitor pretium. Etiam at pharetra erat. Nam fermentum sem sem, eget mollis est auctor at. Suspendisse in orci euismod, tincidunt mauris sit amet, ullamcorper erat. Maecenas sed tortor a dolor rutrum sagittis ut quis sapien. Integer placerat lectus tortor, ac maximus turpis euismod id. Ut ut nisi ex. Nam vel est non eros pellentesque facilisis. Phasellus aliquam quam eu ipsum eleifend pellentesque. Curabitur in libero libero.\",\n",
    "\n",
    "\"Nulla facilisi. Nam semper iaculis augue vel maximus. Ut at elit gravida, mattis nisi sed, vehicula orci. Praesent ornare diam et quam consequat, et lacinia mauris interdum. Quisque mollis metus at enim dapibus, convallis tincidunt odio porttitor. Vivamus efficitur, purus non bibendum placerat, neque felis malesuada diam, ut dignissim justo urna et nisl. Pellentesque tempor et enim eget sodales. Fusce ut sodales ipsum. Cras at eros et metus fringilla mattis. Ut eu mi id urna aliquet ultrices. Vestibulum rhoncus dui eget odio faucibus tincidunt.\",\n",
    "\n",
    "\"Cras eros est, rhoncus id dolor at, euismod vestibulum libero. Nulla vel laoreet quam. Morbi vitae velit ac leo volutpat luctus a vitae metus. Suspendisse scelerisque nisi aliquet nisi suscipit, id pulvinar tellus condimentum. Etiam euismod augue eu nunc convallis ullamcorper. Nunc ac ultrices odio, et condimentum libero. Vestibulum aliquet eleifend nisi id rutrum. Etiam sed eros tincidunt, mollis dolor vel, blandit turpis. Cras dapibus rutrum sapien non pretium.\",\n",
    "\n",
    "\"Aliquam sodales massa in lacinia cursus. Pellentesque tempus id turpis et convallis. Cras in venenatis tortor. Nulla facilisi. Lorem ipsum dolor sit amet, consectetur adipiscing elit. Vivamus pharetra ac mauris et sagittis. Etiam consectetur mauris vitae turpis auctor mattis. Ut volutpat congue ex, ac commodo sem tincidunt eu. Quisque vel tortor ac odio consectetur sagittis in a libero. Cum sociis natoque penatibus et magnis dis parturient montes, nascetur ridiculus mus. Suspendisse accumsan tincidunt viverra.\",\n",
    "\n",
    "\"Pellentesque pharetra eros a libero dictum, sed fermentum arcu luctus. Pellentesque sed mattis neque. Curabitur in massa in lorem posuere pulvinar condimentum at purus. Nulla facilisi. Suspendisse eget congue enim. Phasellus sit amet dapibus libero. Integer a mauris in odio egestas sollicitudin. Duis id hendrerit tellus. Suspendisse potenti. Donec ut felis elit. Sed eu euismod sem.\",\n",
    "\n",
    "\"Vivamus sapien est, malesuada id dapibus ut, gravida in turpis. Vestibulum bibendum maximus urna a tempus. Nulla facilisi. Nunc accumsan urna sed elit mattis, vitae pulvinar tortor imperdiet. Duis at convallis urna. Donec convallis massa elit, in commodo ante bibendum vel. Vivamus vitae feugiat purus, finibus porta justo. Aliquam a auctor ex. Cum sociis natoque penatibus et magnis dis parturient montes, nascetur ridiculus mus. Maecenas at magna elit. Curabitur ac consequat ligula. Etiam turpis ante, efficitur id dapibus id, viverra ac velit. Nam euismod id neque sed porta. Aenean vulputate lectus quam, eu varius ipsum semper congue. Integer ullamcorper sapien tortor, eu dapibus ante tincidunt id. Sed aliquam laoreet enim eget tincidunt.\",\n",
    "\n",
    "\"Aliquam non arcu sed est faucibus venenatis. Sed sed erat ut mauris tempor tincidunt. Integer ullamcorper nec augue quis tincidunt. Vestibulum lacinia sollicitudin nibh, in imperdiet ex porta in. Maecenas non ipsum sed dolor tristique facilisis at blandit nibh. Praesent et placerat orci. Nulla molestie condimentum cursus. Maecenas et dapibus nisi. Phasellus vitae ligula tempor, imperdiet justo a, bibendum nulla. Pellentesque sagittis ligula sed arcu bibendum, nec porttitor nisl semper. Nullam nisl erat, vestibulum a porta eget, interdum vehicula dui. Sed finibus dapibus massa, in rhoncus justo eleifend eu. Ut ut ex tincidunt, feugiat nulla nec, dapibus lectus.\",\n",
    "\n",
    "\"Curabitur eu condimentum massa, porttitor condimentum purus. Pellentesque ultricies, elit in vestibulum dignissim, libero mauris dapibus felis, a lobortis turpis odio nec tortor. Fusce sed ullamcorper dui. Integer dui felis, placerat in elementum quis, venenatis eget leo. Maecenas lacinia dignissim lobortis. Suspendisse quis nulla sed diam semper convallis. Nulla urna nunc, lacinia fringilla neque et, aliquam suscipit felis. Cras sagittis purus dui, ullamcorper pharetra orci tincidunt id. Pellentesque habitant morbi tristique senectus et netus et malesuada fames ac turpis egestas. Curabitur lacus risus, pulvinar at condimentum at, interdum nec turpis. Duis nec eros et metus cursus malesuada.\",\n",
    "\n",
    "\"Phasellus nec nibh lectus. Maecenas porttitor ante porta molestie finibus. Quisque orci tortor, lacinia et accumsan vitae, condimentum id ipsum. Nullam ultrices id nulla quis vehicula. Aliquam sodales venenatis finibus. Ut ex leo, pellentesque eget nisi sit amet, bibendum tincidunt massa. Cras quis libero lobortis, fringilla risus nec, vestibulum ligula. Lorem ipsum dolor sit amet, consectetur adipiscing elit. Mauris rhoncus viverra scelerisque. In est nisl, blandit vitae velit a, ornare posuere mauris.\",\n",
    "\n",
    "\"Sed id ante eu nulla iaculis varius non sit amet felis. Proin finibus dapibus luctus. Phasellus quis dapibus nunc. Donec nunc libero, interdum eget sapien id, accumsan ornare eros. Mauris congue laoreet dui. Donec aliquam lectus eu odio molestie interdum. Fusce euismod neque metus, in sodales nibh luctus ut. Cras ex mi, pulvinar sed dui at, pulvinar ullamcorper arcu. Praesent sollicitudin aliquet erat, ac volutpat lorem interdum vel. Nulla dictum libero vestibulum, rhoncus ipsum vitae, scelerisque justo. Integer vel arcu ut nulla malesuada tempus sit amet id felis. Vivamus id ultricies nisi. Donec ullamcorper odio vitae turpis varius rhoncus. Aliquam at imperdiet eros. Donec hendrerit elementum sollicitudin. Donec fringilla mattis elit, nec blandit ex mattis non.\",\n",
    "\n",
    "\"Nunc quis ornare lorem, eget tristique arcu. Donec elementum enim ac libero viverra, ac porta felis imperdiet. Sed eu consequat est. Integer tincidunt sagittis nisl. Cum sociis natoque penatibus et magnis dis parturient montes, nascetur ridiculus mus. In mollis, massa pharetra rhoncus finibus, leo ex facilisis elit, et viverra lectus justo id turpis. In in eros quis lectus rutrum mollis. Proin ut dui at odio commodo rutrum sed ut tellus. Ut suscipit efficitur arcu, finibus hendrerit risus luctus nec. Nullam vitae tortor sit amet elit rhoncus scelerisque. Nunc pretium purus lectus, blandit vehicula nulla mollis ac. Duis sit amet fringilla nibh. Donec id augue viverra, aliquam ex eu, venenatis diam. Duis ornare a lacus quis feugiat. Integer scelerisque, diam ut vestibulum hendrerit, lacus mi pulvinar nunc, vel porttitor sapien orci eu ipsum.\",\n",
    "\n",
    "\"Nulla porta eget ante ac mollis. Morbi tristique massa sit amet tempus volutpat. Vestibulum ante ipsum primis in faucibus orci luctus et ultrices posuere cubilia Curae; Phasellus ultricies dignissim tortor, vel scelerisque orci. Mauris sit amet rutrum nunc, vel mattis orci. Integer non nibh elit. Phasellus massa sapien, aliquet eu sem non, efficitur gravida eros. Curabitur eget efficitur lacus. In hac habitasse platea dictumst. Sed quis cursus dui, eu gravida libero. Maecenas sodales pellentesque dui ac laoreet.\",\n",
    "\n",
    "\"Proin euismod neque non nibh eleifend, at gravida augue ullamcorper. Fusce vulputate libero lacus, non commodo justo aliquam nec. Phasellus laoreet enim lectus, ac dapibus nisi dictum non. Maecenas ut commodo lorem. Fusce sagittis iaculis diam, ut sagittis purus. Quisque dui augue, cursus nec tellus et, ullamcorper egestas orci. Morbi dui tellus, commodo quis erat eu, mattis fringilla enim. In malesuada porta eros, nec efficitur orci condimentum ac. Suspendisse potenti. Phasellus eleifend gravida ex et iaculis. Sed hendrerit, augue at faucibus lacinia, nisl ex porta risus, vel semper nisl odio quis orci. Integer dapibus lectus sit amet turpis sodales posuere.\"])"
   ]
  },
  {
   "cell_type": "code",
   "execution_count": 10,
   "metadata": {
    "collapsed": false
   },
   "outputs": [
    {
     "data": {
      "text/plain": [
       "'Lorem ipsum dolor sit amet, consectetur adipiscing elit. Phasellus lacinia mauris eget ligula bibendum, et tincidunt neque convallis. Praesent nec scelerisque lacus, eget viverra ipsum. Nam eu luctus mauris. Quisque consectetur ex libero, in convallis diam vulputate ac. In tempor metus dui, non faucibus dolor ultricies eget. Sed egestas sed nunc quis auctor. Pellentesque habitant morbi tristique senectus et netus et malesuada fames ac turpis egestas. Donec est quam, dapibus sed velit in, venenatis convallis leo. Sed metus leo, laoreet a mollis quis, pretium quis enim. Praesent consectetur diam non nibh cursus, vel semper nisl euismod.'"
      ]
     },
     "execution_count": 10,
     "metadata": {},
     "output_type": "execute_result"
    }
   ],
   "source": [
    "lorum[0]"
   ]
  },
  {
   "cell_type": "code",
   "execution_count": 11,
   "metadata": {
    "collapsed": false
   },
   "outputs": [
    {
     "data": {
      "text/plain": [
       "['Xln-98-33',\n",
       " 'X09 47 ku',\n",
       " 'X59-jt-34',\n",
       " 'Xvk23av',\n",
       " 'Xcs-tg-53',\n",
       " 'X82ctuf',\n",
       " 'X81kmi6',\n",
       " 'X7 rux 92',\n",
       " 'Xvv 353 g',\n",
       " 'Xub-67-84']"
      ]
     },
     "execution_count": 11,
     "metadata": {},
     "output_type": "execute_result"
    }
   ],
   "source": [
    "dataDf.select(\"plate\").map(lambda x: \"X{0}\".format(x[0])).take(10)"
   ]
  },
  {
   "cell_type": "code",
   "execution_count": 12,
   "metadata": {
    "collapsed": false
   },
   "outputs": [
    {
     "data": {
      "text/plain": [
       "'Maecenas ultricies enim quis velit tristique, sed auctor eros gravida. Vestibulum at neque dictum, pulvinar velit at, vehicula diam. Maecenas lectus erat, interdum a lectus a, blandit facilisis justo. Suspendisse non imperdiet neque. Fusce tempus sodales arcu eget sodales. Nullam finibus elementum purus a rutrum. Donec blandit risus non placerat elementum. Pellentesque egestas tellus eu mauris malesuada scelerisque. Pellentesque scelerisque elit nisi, ac pretium arcu vulputate ut. In pharetra ex vel lobortis fringilla. Pellentesque leo felis, rutrum in accumsan vitae, ultrices vitae libero.'"
      ]
     },
     "execution_count": 12,
     "metadata": {},
     "output_type": "execute_result"
    }
   ],
   "source": [
    "choice(lorum)"
   ]
  },
  {
   "cell_type": "code",
   "execution_count": 13,
   "metadata": {
    "collapsed": true
   },
   "outputs": [],
   "source": [
    "import random\n",
    "\n",
    "def insertPlateIntoRandomLipsum(plate):\n",
    "    text = choice(lorum)\n",
    "    split = random.randint(0, len(text))\n",
    "    return Row(text=\"\".join([text[:split], \" <START:licenseplate> \", plate, \" <END> \", text[split:]]))\n"
   ]
  },
  {
   "cell_type": "code",
   "execution_count": 14,
   "metadata": {
    "collapsed": false
   },
   "outputs": [
    {
     "data": {
      "text/plain": [
       "Row(text='Duis quis est in turpis iaculis suscipit. Aliquam mattis maximus turpis non facilisis. Praesent volutpat tincidunt ligula, et dignissim nunc ullamcorper in. Morbi et nisl leo. Quisque placerat tempus diam, in suscipit ex tincidunt non. Mauris congue ex et ante finibus porttitor. Etiam nisi quam, ullamcorper id justo sit amet, facilisis feugiat augue. Nunc ut magna placerat, venenatis urna eu <START:licenseplate> HV699N <END> , vehicula est. Praesent laoreet turpis urna, nec pretium arcu molestie vel. Fusce urna nulla, efficitur vestibulum condimentum non, sollicitudin in libero. Maecenas rutrum metus nec feugiat condimentum. Aliquam vitae velit rutrum, accumsan felis eu, consequat felis. Morbi hendrerit elit odio, quis fringilla dolor egestas et. Duis pellentesque bibendum iaculis.')"
      ]
     },
     "execution_count": 14,
     "metadata": {},
     "output_type": "execute_result"
    }
   ],
   "source": [
    "insertPlateIntoRandomLipsum(\"HV699N\")"
   ]
  },
  {
   "cell_type": "code",
   "execution_count": 15,
   "metadata": {
    "collapsed": false
   },
   "outputs": [],
   "source": [
    "textDf = sqlCtx.createDataFrame(dataDf.select(\"plate\").map(lambda x: insertPlateIntoRandomLipsum(x[0])))"
   ]
  },
  {
   "cell_type": "code",
   "execution_count": 16,
   "metadata": {
    "collapsed": false
   },
   "outputs": [],
   "source": [
    "textDf.write.mode(\"overwrite\").text(path=\"/Users/kgeusebroek/dev/xebia/godatadriven/projects/nlp/data\")"
   ]
  },
  {
   "cell_type": "code",
   "execution_count": null,
   "metadata": {
    "collapsed": true
   },
   "outputs": [],
   "source": []
  }
 ],
 "metadata": {
  "kernelspec": {
   "display_name": "Python 2",
   "language": "python",
   "name": "python2"
  },
  "language_info": {
   "codemirror_mode": {
    "name": "ipython",
    "version": 2
   },
   "file_extension": ".py",
   "mimetype": "text/x-python",
   "name": "python",
   "nbconvert_exporter": "python",
   "pygments_lexer": "ipython2",
   "version": "2.7.13"
  }
 },
 "nbformat": 4,
 "nbformat_minor": 2
}
