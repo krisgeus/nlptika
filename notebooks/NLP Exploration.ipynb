{
 "cells": [
  {
   "cell_type": "markdown",
   "metadata": {},
   "source": [
    "# NLP Entity Extration\n",
    "\n",
    "## Using [Polyglot](http://polyglot.readthedocs.io/en/latest/NamedEntityRecognition.html)\n",
    "\n",
    "### Installing polyglot\n",
    "```bash\n",
    "\n",
    "mkvirtualenv nlp\n",
    "brew install icu4c\n",
    "brew link icu4c gettext --force\n",
    "CFLAGS=-I/usr/local/opt/icu4c/include LDFLAGS=-L/usr/local/opt/icu4c/lib pip install polyglot\n",
    "pip install jupyter\n",
    "\n",
    "```\n",
    "\n"
   ]
  },
  {
   "cell_type": "markdown",
   "metadata": {
    "collapsed": true
   },
   "source": [
    "### The projects demo"
   ]
  },
  {
   "cell_type": "code",
   "execution_count": 3,
   "metadata": {
    "collapsed": false
   },
   "outputs": [],
   "source": [
    "from polyglot.text import Text "
   ]
  },
  {
   "cell_type": "code",
   "execution_count": 12,
   "metadata": {
    "collapsed": false
   },
   "outputs": [
    {
     "name": "stdout",
     "output_type": "stream",
     "text": [
      "[polyglot_data] Downloading package embeddings2.en to\r\n",
      "[polyglot_data]     /Users/kgeusebroek/polyglot_data...\r\n",
      "[polyglot_data]   Package embeddings2.en is already up-to-date!\r\n"
     ]
    }
   ],
   "source": [
    "!polyglot download embeddings2.en"
   ]
  },
  {
   "cell_type": "code",
   "execution_count": 11,
   "metadata": {
    "collapsed": false
   },
   "outputs": [
    {
     "name": "stdout",
     "output_type": "stream",
     "text": [
      "[polyglot_data] Downloading package ner2.en to\r\n",
      "[polyglot_data]     /Users/kgeusebroek/polyglot_data...\r\n"
     ]
    }
   ],
   "source": [
    "!polyglot download ner2.en"
   ]
  },
  {
   "cell_type": "code",
   "execution_count": 13,
   "metadata": {
    "collapsed": true
   },
   "outputs": [],
   "source": [
    "blob = \"\"\"The Israeli Prime Minister Benjamin Netanyahu has warned that Iran poses a \"threat to the entire world\".\"\"\"\n",
    "text = Text(blob)\n",
    "\n",
    "# We can also specify language of that text by using\n",
    "# text = Text(blob, hint_language_code='en')"
   ]
  },
  {
   "cell_type": "markdown",
   "metadata": {},
   "source": [
    "We can query all entities mentioned in a text."
   ]
  },
  {
   "cell_type": "code",
   "execution_count": 14,
   "metadata": {
    "collapsed": false
   },
   "outputs": [
    {
     "data": {
      "text/plain": [
       "[I-ORG([u'Israeli']), I-PER([u'Benjamin', u'Netanyahu']), I-LOC([u'Iran'])]"
      ]
     },
     "execution_count": 14,
     "metadata": {},
     "output_type": "execute_result"
    }
   ],
   "source": [
    "text.entities"
   ]
  },
  {
   "cell_type": "markdown",
   "metadata": {},
   "source": [
    "Or, we can query entites per sentence"
   ]
  },
  {
   "cell_type": "code",
   "execution_count": 15,
   "metadata": {
    "collapsed": false
   },
   "outputs": [
    {
     "name": "stdout",
     "output_type": "stream",
     "text": [
      "(Sentence(\"The Israeli Prime Minister Benjamin Netanyahu has warned that Iran poses a \"threat to the entire world\".\"), '\\n')\n",
      "(u'I-ORG', I-ORG([u'Israeli']))\n",
      "(u'I-PER', I-PER([u'Benjamin', u'Netanyahu']))\n",
      "(u'I-LOC', I-LOC([u'Iran']))\n"
     ]
    }
   ],
   "source": [
    "for sent in text.sentences:\n",
    "  print(sent, \"\\n\")\n",
    "  for entity in sent.entities:\n",
    "    print(entity.tag, entity)"
   ]
  },
  {
   "cell_type": "markdown",
   "metadata": {},
   "source": [
    "By doing more careful inspection of the second entity Benjamin Netanyahu, we can locate the position of the entity within the sentence."
   ]
  },
  {
   "cell_type": "code",
   "execution_count": 16,
   "metadata": {
    "collapsed": false
   },
   "outputs": [
    {
     "data": {
      "text/plain": [
       "WordList([u'Benjamin', u'Netanyahu'])"
      ]
     },
     "execution_count": 16,
     "metadata": {},
     "output_type": "execute_result"
    }
   ],
   "source": [
    "benjamin = sent.entities[1]\n",
    "sent.words[benjamin.start: benjamin.end]"
   ]
  },
  {
   "cell_type": "markdown",
   "metadata": {},
   "source": [
    "### Try Dutch now"
   ]
  },
  {
   "cell_type": "code",
   "execution_count": 18,
   "metadata": {
    "collapsed": false
   },
   "outputs": [
    {
     "name": "stdout",
     "output_type": "stream",
     "text": [
      "[polyglot_data] Downloading package embeddings2.nl to\r\n",
      "[polyglot_data]     /Users/kgeusebroek/polyglot_data...\r\n"
     ]
    }
   ],
   "source": [
    "!polyglot download embeddings2.nl"
   ]
  },
  {
   "cell_type": "code",
   "execution_count": 19,
   "metadata": {
    "collapsed": false
   },
   "outputs": [
    {
     "name": "stdout",
     "output_type": "stream",
     "text": [
      "[polyglot_data] Downloading package ner2.nl to\r\n",
      "[polyglot_data]     /Users/kgeusebroek/polyglot_data...\r\n"
     ]
    }
   ],
   "source": [
    "!polyglot download ner2.nl"
   ]
  },
  {
   "cell_type": "code",
   "execution_count": 20,
   "metadata": {
    "collapsed": true
   },
   "outputs": [],
   "source": [
    "nl_blob = \"\"\"De kathedraal van Winchester (\"Winchester Cathedral\") is de anglicaanse bisschopskerk in Winchester (Hampshire) en een van de grootste kathedralen van Engeland. Het oudste deel van de huidige kathedraal is de crypte, die dateert uit het begin van de 12e eeuw. De bouw van de gedrongen vierkante toren begon in 1202 en vertoont invloeden van de Normandische stijl. De bouw werd voortgezet tijdens de 14e, 15e en 16e eeuw. Restauratiewerk werd uitgevoerd door T.G. Jackson tussen 1905 en 1912. De kathedraal is gewijd aan de Heilige Drie-eenheid, aan Sint-Petrus, Sint-Paulus en aan Sint-Swithun, een 9e-eeuwse heilige, die van 852 tot 862 bisschop van Winchester was.\"\"\"\n",
    "nl_text = Text(nl_blob)\n"
   ]
  },
  {
   "cell_type": "code",
   "execution_count": 21,
   "metadata": {
    "collapsed": false
   },
   "outputs": [
    {
     "data": {
      "text/plain": [
       "[I-LOC([u'Winchester']),\n",
       " I-LOC([u'Winchester']),\n",
       " I-ORG([u'Winchester', u'Cathedral']),\n",
       " I-LOC([u'Winchester', u'(', u'Hampshire']),\n",
       " I-LOC([u'Engeland']),\n",
       " I-LOC([u'Normandische']),\n",
       " I-PER([u'T.G', u'.', u'Jackson']),\n",
       " I-ORG([u'Drie']),\n",
       " I-PER([u'Sint']),\n",
       " I-LOC([u'Petrus']),\n",
       " I-LOC([u'Sint', u'-', u'Paulus']),\n",
       " I-LOC([u'Winchester'])]"
      ]
     },
     "execution_count": 21,
     "metadata": {},
     "output_type": "execute_result"
    }
   ],
   "source": [
    "nl_text.entities"
   ]
  },
  {
   "cell_type": "code",
   "execution_count": 22,
   "metadata": {
    "collapsed": false
   },
   "outputs": [
    {
     "data": {
      "text/plain": [
       "[I-LOC([u'Normandische']),\n",
       " I-PER([u'Walkelin']),\n",
       " I-LOC([u'Engeland']),\n",
       " I-PER([u'Alfred', u'de', u'Grote']),\n",
       " I-LOC([u'-']),\n",
       " I-PER([u'Koning', u'Willem', u'II']),\n",
       " I-PER([u'Willem', u'I']),\n",
       " I-LOC([u'New', u'Forest']),\n",
       " I-LOC([u'Engelse']),\n",
       " I-PER([u'Jane', u'Austen']),\n",
       " I-LOC([u'Winchester']),\n",
       " I-PER([u'William', u'Walker']),\n",
       " I-ORG([u'Royal', u'Victorian', u'Order']),\n",
       " I-LOC([u'Winchester']),\n",
       " I-ORG([u'Winchester', u'Cathedral'])]"
      ]
     },
     "execution_count": 22,
     "metadata": {},
     "output_type": "execute_result"
    }
   ],
   "source": [
    "nl_blob2 = \"\"\"\n",
    "De oude kathedraal, de \"Old Minster\" werd gesticht in 642. In 971 werd de Old Minster gerestaureerd. Bij die gelegenheid werd er een reliekschrijn van de 9e-eeuwse bisschop St. Swithun in gebruik genomen en werd deze heilige tevens een van de patroonheiligen van de kathedraal. In 1079, onder de eerste Normandische bisschop Walkelin, begon men aan de constructie van de huidige kathedraal, die op 8 april 1093, in het bijzijn van bijna alle bisschoppen en abten van Engeland in gebruik werd genomen. Voordat in hetzelfde jaar de Old Minster werd afgebroken, werden eerst alle belangrijke graven en relikwieën, die dateren van voor de bouw, naar de nieuwe kathedraal overgebracht. Voorbeelden hiervan zijn de overblijfselen van verschillende Angelsaksische koningen, waaronder het graf van koning Alfred de Grote, en de reliekschrijn van Sint-Swithun.\n",
    "Koning Willem II (de zoon van Willem I) werd in de kathedraal begraven op 1 augustus 1100, nadat hij was omgekomen bij een ongeluk tijdens de jacht in het nabijgelegen New Forest.\n",
    "De kathedraal trekt vele toeristen, onder andere vanwege het graf van de beroemde Engelse romanschrijfster Jane Austen, die in Winchester overleed.\n",
    "Aan het begin van de 20e eeuw kreeg het gebouw te lijden onder wateroverlast. De funderingen van de zuidelijke en oostelijke muur werden versterkt door de duiker William Walker, die tussen 1906 en 1912 zes uur per dag in complete duisternis werkte tot een diepte van zes meter. Aan hem is het te danken dat delen van de kerk niet zijn ingestort. Hij werd hiervoor onderscheiden met de Royal Victorian Order.\n",
    "Belangrijke gebeurtenissen die plaatsvonden in de kathedraal:\n",
    "Winchester Cathedral is mogelijk de enige kathedraal waarover een popsong werd geschreven.\"\"\"\n",
    "nl_text2 = Text(nl_blob2)\n",
    "nl_text2.entities"
   ]
  },
  {
   "cell_type": "code",
   "execution_count": 29,
   "metadata": {
    "collapsed": false
   },
   "outputs": [
    {
     "data": {
      "text/plain": [
       "[I-PER([u'Prins', u'Carnaval']), I-LOC([u'Geldrop']), I-LOC([u'haarlm'])]"
      ]
     },
     "execution_count": 29,
     "metadata": {},
     "output_type": "execute_result"
    }
   ],
   "source": [
    "nl_blob3 = \"\"\"Prins Carnaval uit Geldrop heeft sinds kort een huis gekocht in haarlm via makelaars bedrijf GoDataDriven\"\"\"\n",
    "nl_text3 = Text(nl_blob3)\n",
    "nl_text3.entities"
   ]
  },
  {
   "cell_type": "code",
   "execution_count": null,
   "metadata": {
    "collapsed": true
   },
   "outputs": [],
   "source": []
  }
 ],
 "metadata": {
  "kernelspec": {
   "display_name": "Python 2",
   "language": "python",
   "name": "python2"
  },
  "language_info": {
   "codemirror_mode": {
    "name": "ipython",
    "version": 2
   },
   "file_extension": ".py",
   "mimetype": "text/x-python",
   "name": "python",
   "nbconvert_exporter": "python",
   "pygments_lexer": "ipython2",
   "version": "2.7.13"
  }
 },
 "nbformat": 4,
 "nbformat_minor": 2
}
